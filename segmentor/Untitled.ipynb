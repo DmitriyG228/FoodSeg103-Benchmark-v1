{
 "cells": [
  {
   "cell_type": "code",
   "execution_count": 44,
   "id": "111d0945-699e-4663-bf0a-88228421101d",
   "metadata": {},
   "outputs": [],
   "source": [
    "#https://stackoverflow.com/questions/59831211/neighbours-of-a-cell-in-matrix-pytorch\n",
    "import torch.nn.functional as nnf\n",
    "\n",
    "def mean_filter(x_bchw):\n",
    "    \"\"\"\n",
    "    Calculating the mean of each 3x3 neighborhood.\n",
    "    input:\n",
    "    - x_bchw: input tensor of dimensions batch-channel-height-width\n",
    "    output:\n",
    "    - y_bchw: each element in y is the average of the 9 corresponding elements in x_bchw\n",
    "    \"\"\"\n",
    "    # define the filter\n",
    "    box = torch.ones((3, 3), dtype=x_bchw.dtype, device=x_bchw.device, requires_grad=False)  \n",
    "    box = box / box.sum()\n",
    "    box = box[None, None, ...].repeat(x_bchw.size(1), 1, 1, 1)\n",
    "    # use grouped convolution - so each channel is averaged separately.  \n",
    "    y_bchw = nnf.conv2d(x_bchw, box, padding=1, groups=x_bchw.size(1))\n",
    "    return y_bchw"
   ]
  },
  {
   "cell_type": "code",
   "execution_count": 45,
   "id": "320673cb-1824-49cc-a1fd-9965aed154d0",
   "metadata": {},
   "outputs": [],
   "source": [
    "def visualize_array(array,alpha=0.8):\n",
    "    fig, ax = plt.subplots()\n",
    "    return ax.imshow(array, interpolation='none', alpha=alpha)"
   ]
  },
  {
   "cell_type": "code",
   "execution_count": 46,
   "id": "3914b8a7-a0e1-41e2-b194-c9108c408796",
   "metadata": {},
   "outputs": [],
   "source": [
    "from matplotlib import pyplot as plt"
   ]
  },
  {
   "cell_type": "code",
   "execution_count": 47,
   "id": "430098ef-db16-494d-9175-18dea112f0c8",
   "metadata": {},
   "outputs": [],
   "source": [
    "import torch"
   ]
  },
  {
   "cell_type": "code",
   "execution_count": 87,
   "id": "8597a3e8-1b5a-4570-bb17-d46cc8783bbd",
   "metadata": {},
   "outputs": [],
   "source": [
    "ones = torch.ones(2,2)"
   ]
  },
  {
   "cell_type": "code",
   "execution_count": 88,
   "id": "de9c3bc1-1f28-4955-8f9e-5a05baa97470",
   "metadata": {},
   "outputs": [
    {
     "data": {
      "text/plain": [
       "tensor([[1., 1.],\n",
       "        [1., 1.]])"
      ]
     },
     "execution_count": 88,
     "metadata": {},
     "output_type": "execute_result"
    }
   ],
   "source": [
    "ones"
   ]
  },
  {
   "cell_type": "code",
   "execution_count": 89,
   "id": "77f2f162-4dc9-41cf-b4d9-acbd5758ce53",
   "metadata": {},
   "outputs": [],
   "source": [
    "t = torch.zeros(10,10)"
   ]
  },
  {
   "cell_type": "code",
   "execution_count": 90,
   "id": "8d671b84-01ec-477f-91dc-c170ae10cb2c",
   "metadata": {},
   "outputs": [],
   "source": [
    "x=6\n",
    "y=6"
   ]
  },
  {
   "cell_type": "code",
   "execution_count": 91,
   "id": "c1af700c-d5ba-46e3-93b8-cc960acc22cc",
   "metadata": {},
   "outputs": [],
   "source": [
    "t[x:x+2,y:y+2] = ones"
   ]
  },
  {
   "cell_type": "code",
   "execution_count": 92,
   "id": "9da44df6-2170-41dc-be9e-e5f768a81dbc",
   "metadata": {},
   "outputs": [],
   "source": [
    "x=7\n",
    "y=7"
   ]
  },
  {
   "cell_type": "code",
   "execution_count": 93,
   "id": "06821d09-2df9-41aa-afd6-849a1d26fd8a",
   "metadata": {},
   "outputs": [],
   "source": [
    "t[x:x+2,y:y+2] = ones"
   ]
  },
  {
   "cell_type": "code",
   "execution_count": 94,
   "id": "3ee8253a-4e86-404b-b815-1ab4fe62d9ca",
   "metadata": {},
   "outputs": [
    {
     "data": {
      "text/plain": [
       "<matplotlib.image.AxesImage at 0x7fe1b8020f70>"
      ]
     },
     "execution_count": 94,
     "metadata": {},
     "output_type": "execute_result"
    },
    {
     "data": {
      "image/png": "[encoded data removed]",
      "text/plain": [
       "<Figure size 432x288 with 1 Axes>"
      ]
     },
     "metadata": {
      "needs_background": "light"
     },
     "output_type": "display_data"
    }
   ],
   "source": [
    "visualize_array(t)"
   ]
  },
  {
   "cell_type": "code",
   "execution_count": 95,
   "id": "2d659cf7-f6f2-46b9-aa61-2e11af67a700",
   "metadata": {},
   "outputs": [],
   "source": [
    "def extrapolate(t,factor):\n",
    "    t     = torch.Tensor(t)\n",
    "    t     = t.unsqueeze(0)\n",
    "    t     = torch.nn.functional.upsample(t, scale_factor=factor)\n",
    "    t     = t.squeeze(0).T.unsqueeze(0)\n",
    "    t     = torch.nn.functional.upsample(t, scale_factor=factor)\n",
    "    return  t.squeeze(0).T"
   ]
  },
  {
   "cell_type": "code",
   "execution_count": 96,
   "id": "2ea04698-309b-4688-8856-8c96aefe3575",
   "metadata": {},
   "outputs": [],
   "source": [
    "tt = extrapolate(t,1.5)"
   ]
  },
  {
   "cell_type": "code",
   "execution_count": 97,
   "id": "13b002fc-7e16-4e21-9f69-4b92de432805",
   "metadata": {},
   "outputs": [
    {
     "data": {
      "text/plain": [
       "torch.Size([10, 10])"
      ]
     },
     "execution_count": 97,
     "metadata": {},
     "output_type": "execute_result"
    }
   ],
   "source": [
    "t.shape"
   ]
  },
  {
   "cell_type": "code",
   "execution_count": 98,
   "id": "bdd711d2-83f5-43c0-a25e-66c94d9aa0ea",
   "metadata": {},
   "outputs": [
    {
     "data": {
      "text/plain": [
       "torch.Size([15, 15])"
      ]
     },
     "execution_count": 98,
     "metadata": {},
     "output_type": "execute_result"
    }
   ],
   "source": [
    "tt.shape"
   ]
  },
  {
   "cell_type": "code",
   "execution_count": 99,
   "id": "e044134b-b1e4-40d4-bf7b-ee78719f9d33",
   "metadata": {},
   "outputs": [
    {
     "data": {
      "text/plain": [
       "<matplotlib.image.AxesImage at 0x7fe1b7fff490>"
      ]
     },
     "execution_count": 99,
     "metadata": {},
     "output_type": "execute_result"
    },
    {
     "data": {
      "image/png": "[encoded data removed]",
      "text/plain": [
       "<Figure size 432x288 with 1 Axes>"
      ]
     },
     "metadata": {
      "needs_background": "light"
     },
     "output_type": "display_data"
    }
   ],
   "source": [
    "visualize_array(tt)"
   ]
  },
  {
   "cell_type": "code",
   "execution_count": null,
   "id": "5bd61d41-6703-495a-bb94-642d4df9cab5",
   "metadata": {},
   "outputs": [],
   "source": []
  },
  {
   "cell_type": "code",
   "execution_count": 101,
   "id": "eb436e6e-706c-4397-8169-a8632fec6a90",
   "metadata": {},
   "outputs": [
    {
     "data": {
      "text/plain": [
       "torch.Size([15, 15])"
      ]
     },
     "execution_count": 101,
     "metadata": {},
     "output_type": "execute_result"
    }
   ],
   "source": [
    "tt.shape"
   ]
  },
  {
   "cell_type": "code",
   "execution_count": 102,
   "id": "10d39d62-26f9-4a78-96ea-b048f88360d2",
   "metadata": {},
   "outputs": [
    {
     "data": {
      "text/plain": [
       "torch.Size([10, 10])"
      ]
     },
     "execution_count": 102,
     "metadata": {},
     "output_type": "execute_result"
    }
   ],
   "source": [
    "t.shape"
   ]
  },
  {
   "cell_type": "code",
   "execution_count": null,
   "id": "8832d9a3-59d3-4e4c-8ba4-210335684258",
   "metadata": {},
   "outputs": [],
   "source": []
  },
  {
   "cell_type": "code",
   "execution_count": 81,
   "id": "b810d988-97dc-40e3-a810-cdb5ecb8b377",
   "metadata": {},
   "outputs": [],
   "source": [
    "ttt = "
   ]
  },
  {
   "cell_type": "code",
   "execution_count": 85,
   "id": "2b3e15db-2523-4a2c-b305-3045b63b388d",
   "metadata": {},
   "outputs": [
    {
     "data": {
      "text/plain": [
       "tensor([[0., 0., 0., 0., 0., 0., 0., 0., 0., 0., 0., 0.],\n",
       "        [0., 0., 0., 0., 0., 0., 0., 0., 0., 0., 0., 0.],\n",
       "        [0., 0., 0., 0., 0., 0., 0., 0., 0., 0., 0., 0.],\n",
       "        [0., 0., 0., 0., 0., 0., 0., 0., 0., 0., 0., 0.],\n",
       "        [0., 0., 0., 0., 0., 0., 0., 0., 0., 0., 0., 0.],\n",
       "        [0., 0., 0., 0., 0., 0., 0., 0., 0., 0., 0., 0.],\n",
       "        [0., 0., 0., 0., 0., 0., 0., 0., 0., 0., 0., 0.],\n",
       "        [0., 0., 0., 0., 0., 0., 0., 0., 0., 0., 0., 0.],\n",
       "        [0., 0., 0., 0., 0., 0., 0., 0., 1., 1., 0., 0.],\n",
       "        [0., 0., 0., 0., 0., 0., 0., 0., 1., 1., 1., 1.],\n",
       "        [0., 0., 0., 0., 0., 0., 0., 0., 0., 1., 1., 1.],\n",
       "        [0., 0., 0., 0., 0., 0., 0., 0., 0., 1., 1., 1.]])"
      ]
     },
     "execution_count": 85,
     "metadata": {},
     "output_type": "execute_result"
    }
   ],
   "source": [
    "ttt"
   ]
  },
  {
   "cell_type": "code",
   "execution_count": 83,
   "id": "fbd96a13-ceb0-4e8b-bd15-3c838069929b",
   "metadata": {},
   "outputs": [
    {
     "data": {
      "text/plain": [
       "<matplotlib.image.AxesImage at 0x7fe1b82b5190>"
      ]
     },
     "execution_count": 83,
     "metadata": {},
     "output_type": "execute_result"
    },
    {
     "data": {
      "image/png": "[encoded data removed]",
      "text/plain": [
       "<Figure size 432x288 with 1 Axes>"
      ]
     },
     "metadata": {
      "needs_background": "light"
     },
     "output_type": "display_data"
    }
   ],
   "source": [
    "visualize_array(ttt)"
   ]
  },
  {
   "cell_type": "code",
   "execution_count": 82,
   "id": "0e279dcc-7912-415e-b7a1-f6c31deeff88",
   "metadata": {},
   "outputs": [
    {
     "data": {
      "text/plain": [
       "tensor([[0., 0., 0., 0., 0., 0., 0., 0., 0., 0., 0., 0.],\n",
       "        [0., 0., 0., 0., 0., 0., 0., 0., 0., 0., 0., 0.],\n",
       "        [0., 0., 0., 0., 0., 0., 0., 0., 0., 0., 0., 0.],\n",
       "        [0., 0., 0., 0., 0., 0., 0., 0., 0., 0., 0., 0.],\n",
       "        [0., 0., 0., 0., 0., 0., 0., 0., 0., 0., 0., 0.],\n",
       "        [0., 0., 0., 0., 0., 0., 0., 0., 0., 0., 0., 0.],\n",
       "        [0., 0., 0., 0., 0., 0., 0., 0., 0., 0., 0., 0.],\n",
       "        [0., 0., 0., 0., 0., 0., 0., 0., 0., 0., 0., 0.],\n",
       "        [0., 0., 0., 0., 0., 0., 0., 0., 1., 1., 0., 0.],\n",
       "        [0., 0., 0., 0., 0., 0., 0., 0., 1., 1., 1., 1.],\n",
       "        [0., 0., 0., 0., 0., 0., 0., 0., 0., 1., 1., 1.],\n",
       "        [0., 0., 0., 0., 0., 0., 0., 0., 0., 1., 1., 1.]])"
      ]
     },
     "execution_count": 82,
     "metadata": {},
     "output_type": "execute_result"
    }
   ],
   "source": []
  },
  {
   "cell_type": "code",
   "execution_count": 61,
   "id": "ca1d28b7-55a3-4b59-8cd8-909fe58e14a1",
   "metadata": {},
   "outputs": [],
   "source": [
    "import numpy as np"
   ]
  },
  {
   "cell_type": "code",
   "execution_count": 68,
   "id": "b252c872-d4bf-4824-9beb-9c993bced66c",
   "metadata": {},
   "outputs": [],
   "source": [
    "#export\n",
    "def crop_center_arr(arr,shape):\n",
    "    left  = int((arr.shape[1]-shape[1])/2)\n",
    "    right =      left+shape[1]  \n",
    "    up    = int((arr.shape[0]-shape[0])/2)\n",
    "    down  =        up+shape[0] \n",
    "    return arr[left:right, up:down]"
   ]
  },
  {
   "cell_type": "code",
   "execution_count": 69,
   "id": "c1ae2ca4-89a2-4e32-9231-ed4a122d231a",
   "metadata": {},
   "outputs": [
    {
     "data": {
      "text/plain": [
       "tensor([[0., 0., 0., 0., 0., 0., 0., 0., 0., 0.],\n",
       "        [0., 0., 0., 0., 0., 0., 0., 0., 0., 0.],\n",
       "        [0., 0., 0., 0., 0., 0., 0., 0., 0., 0.],\n",
       "        [0., 0., 0., 0., 0., 0., 0., 0., 0., 0.],\n",
       "        [0., 0., 0., 0., 0., 0., 0., 0., 0., 0.],\n",
       "        [0., 0., 0., 0., 0., 0., 0., 0., 0., 0.],\n",
       "        [0., 0., 0., 0., 0., 0., 0., 0., 0., 0.],\n",
       "        [0., 0., 0., 0., 0., 0., 0., 1., 1., 1.],\n",
       "        [0., 0., 0., 0., 0., 0., 0., 1., 1., 1.],\n",
       "        [0., 0., 0., 0., 0., 0., 0., 1., 1., 1.]])"
      ]
     },
     "execution_count": 69,
     "metadata": {},
     "output_type": "execute_result"
    }
   ],
   "source": [
    "crop_center_arr(tt,t.shape)"
   ]
  },
  {
   "cell_type": "code",
   "execution_count": null,
   "id": "58e71409-3b47-41cc-89e8-85f6b77873ca",
   "metadata": {},
   "outputs": [],
   "source": []
  },
  {
   "cell_type": "code",
   "execution_count": 175,
   "id": "ca5403a5-aa0f-47f3-9846-c7aa6140ba63",
   "metadata": {},
   "outputs": [],
   "source": [
    "def expand_boundaries(t,times=1):\n",
    "    t = t[None, None, ...].repeat(t.size(1), 1, 1, 1)\n",
    "    for _ in range(times):\n",
    "        t = mean_filter(t)\n",
    "        t[t>0] = 1\n",
    "    return t[0,0,:]"
   ]
  },
  {
   "cell_type": "code",
   "execution_count": 182,
   "id": "f59b77d1-d2c1-4547-90a6-a7a7729c8612",
   "metadata": {},
   "outputs": [
    {
     "data": {
      "text/plain": [
       "tensor([[0., 0., 0., 0., 0., 0., 0., 0., 0., 0.],\n",
       "        [0., 0., 0., 0., 0., 0., 0., 0., 0., 0.],\n",
       "        [0., 0., 0., 0., 0., 0., 0., 0., 0., 0.],\n",
       "        [0., 0., 0., 1., 1., 1., 1., 1., 0., 0.],\n",
       "        [0., 0., 0., 1., 1., 1., 1., 1., 0., 0.],\n",
       "        [0., 0., 0., 1., 1., 1., 1., 1., 0., 0.],\n",
       "        [0., 0., 0., 1., 1., 1., 1., 1., 0., 0.],\n",
       "        [0., 0., 0., 1., 1., 1., 1., 1., 0., 0.],\n",
       "        [0., 0., 0., 0., 0., 0., 0., 0., 0., 0.],\n",
       "        [0., 0., 0., 0., 0., 0., 0., 0., 0., 0.]])"
      ]
     },
     "execution_count": 182,
     "metadata": {},
     "output_type": "execute_result"
    }
   ],
   "source": [
    "expand_boundaries(t,2)"
   ]
  },
  {
   "cell_type": "code",
   "execution_count": null,
   "id": "278968a9-e31b-4b15-9ac8-da7be51440b1",
   "metadata": {},
   "outputs": [],
   "source": []
  },
  {
   "cell_type": "code",
   "execution_count": 132,
   "id": "a0e765fb-3a4a-4bd5-89c8-fce4b0d8ec65",
   "metadata": {},
   "outputs": [],
   "source": []
  },
  {
   "cell_type": "code",
   "execution_count": null,
   "id": "9683b0a6-fe89-4211-9b61-e7fab616feed",
   "metadata": {},
   "outputs": [],
   "source": []
  },
  {
   "cell_type": "code",
   "execution_count": null,
   "id": "c6739b5c-ed98-40a6-88b0-d3e754ff3076",
   "metadata": {},
   "outputs": [],
   "source": []
  },
  {
   "cell_type": "code",
   "execution_count": 108,
   "id": "bc598746-23ee-4af9-95e4-c35a80fd731d",
   "metadata": {},
   "outputs": [],
   "source": []
  },
  {
   "cell_type": "code",
   "execution_count": 109,
   "id": "a6967db8-2d4a-434e-be9f-190d077001c2",
   "metadata": {},
   "outputs": [],
   "source": []
  },
  {
   "cell_type": "code",
   "execution_count": 112,
   "id": "df108182-102d-4714-83cf-8b271dcdd1b7",
   "metadata": {},
   "outputs": [
    {
     "data": {
      "text/plain": [
       "torch.Size([10, 1, 10, 10])"
      ]
     },
     "execution_count": 112,
     "metadata": {},
     "output_type": "execute_result"
    }
   ],
   "source": [
    "t.shape"
   ]
  },
  {
   "cell_type": "code",
   "execution_count": 123,
   "id": "fccfec40-be5f-4bb5-89e9-88baa46471cb",
   "metadata": {},
   "outputs": [
    {
     "data": {
      "text/plain": [
       "tensor([[0., 0., 0., 0., 0., 0., 0., 0., 0., 0.],\n",
       "        [0., 0., 0., 0., 0., 0., 0., 0., 0., 0.],\n",
       "        [0., 0., 0., 0., 0., 0., 0., 0., 0., 0.],\n",
       "        [0., 0., 0., 0., 0., 0., 0., 0., 0., 0.],\n",
       "        [0., 0., 0., 0., 1., 1., 1., 1., 1., 0.],\n",
       "        [0., 0., 0., 0., 1., 1., 1., 1., 1., 0.],\n",
       "        [0., 0., 0., 0., 1., 1., 1., 1., 1., 0.],\n",
       "        [0., 0., 0., 0., 1., 1., 1., 1., 1., 0.],\n",
       "        [0., 0., 0., 0., 1., 1., 1., 1., 1., 0.],\n",
       "        [0., 0., 0., 0., 0., 0., 0., 0., 0., 0.]])"
      ]
     },
     "execution_count": 123,
     "metadata": {},
     "output_type": "execute_result"
    }
   ],
   "source": []
  },
  {
   "cell_type": "code",
   "execution_count": null,
   "id": "60577de0-0bea-4ef8-a8de-d4d6b22fa921",
   "metadata": {},
   "outputs": [],
   "source": []
  }
 ],
 "metadata": {
  "kernelspec": {
   "display_name": "f4",
   "language": "python",
   "name": "f4"
  },
  "language_info": {
   "codemirror_mode": {
    "name": "ipython",
    "version": 3
   },
   "file_extension": ".py",
   "mimetype": "text/x-python",
   "name": "python",
   "nbconvert_exporter": "python",
   "pygments_lexer": "ipython3",
   "version": "3.9.13"
  }
 },
 "nbformat": 4,
 "nbformat_minor": 5
}
