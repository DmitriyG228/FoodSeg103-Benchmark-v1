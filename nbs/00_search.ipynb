{
 "cells": [
  {
   "cell_type": "code",
   "execution_count": 1,
   "metadata": {},
   "outputs": [],
   "source": [
    "import sys\n",
    "sys.path.insert(0,'..')"
   ]
  },
  {
   "cell_type": "code",
   "execution_count": null,
   "metadata": {},
   "outputs": [],
   "source": []
  },
  {
   "cell_type": "code",
   "execution_count": 2,
   "metadata": {},
   "outputs": [
    {
     "name": "stdout",
     "output_type": "stream",
     "text": [
      "dev\n",
      "../checkpoints/SETR_Naive_ReLeM\n"
     ]
    },
    {
     "name": "stderr",
     "output_type": "stream",
     "text": [
      "/home/dima/FoodSeg103-Benchmark-v1/nbs/../mmseg/models/builder.py:59: UserWarning: train_cfg and test_cfg is deprecated, please specify them in model\n",
      "  warnings.warn(\n"
     ]
    },
    {
     "name": "stdout",
     "output_type": "stream",
     "text": [
      "load pre-trained weight from imagenet21k\n"
     ]
    }
   ],
   "source": [
    "from food.psql import *\n",
    "from food.paths import *\n",
    "from mytools.tools import *\n",
    "import pandas as pd\n",
    "from food.segment import *\n",
    "import requests\n",
    "import torch"
   ]
  },
  {
   "cell_type": "code",
   "execution_count": 3,
   "metadata": {},
   "outputs": [
    {
     "name": "stderr",
     "output_type": "stream",
     "text": [
      "/home/dima/mytools/mytools/tools.py:26: UserWarning: Creating a tensor from a list of numpy.ndarrays is extremely slow. Please consider converting the list to a single numpy.ndarray with numpy.array() before converting to a tensor. (Triggered internally at  ../torch/csrc/utils/tensor_new.cpp:201.)\n",
      "  series2tensor = lambda series:torch.tensor([np.array(c) for c in series.values])\n"
     ]
    }
   ],
   "source": [
    "foods = pd.read_sql(\"\"\"select f.*\n",
    "                        from food.foods_prompted f\n",
    "                        \"\"\",engine)\n",
    "\n",
    "# foods = foods.drop(columns = ['clip'])\n",
    "foods = foods.set_index('id')\n",
    "foods = foods.dropna()\n",
    "food_clips = series2tensor(foods['clip'])"
   ]
  },
  {
   "cell_type": "code",
   "execution_count": 4,
   "metadata": {},
   "outputs": [],
   "source": [
    "def search_clip(url,head = 1):\n",
    "    image_clip = requests.post(f'http://127.0.0.1:8182/image2vector/?url={url}').json()\n",
    "    image_clip = torch.tensor(image_clip)\n",
    "    df = foods.copy()\n",
    "    df['score'] = cos(food_clips,image_clip)\n",
    "    df = df.sort_values('score',ascending=False)[:head]\n",
    "\n",
    "    return image_clip,df.reset_index()"
   ]
  },
  {
   "cell_type": "code",
   "execution_count": 5,
   "metadata": {},
   "outputs": [],
   "source": [
    "import numpy as np\n",
    "from matplotlib import pyplot as plt\n",
    "plt.rcParams[\"figure.figsize\"] = [30.00, 30.0]\n",
    "plt.rcParams[\"figure.autolayout\"] = True"
   ]
  },
  {
   "cell_type": "code",
   "execution_count": 1,
   "metadata": {},
   "outputs": [],
   "source": [
    "url = 'https://image.shutterstock.com/z/stock-photo-selective-focus-of-seblak-kuah-famous-street-food-originating-from-bandung-west-java-cooked-1793705947.jpg'"
   ]
  },
  {
   "cell_type": "code",
   "execution_count": 7,
   "metadata": {},
   "outputs": [],
   "source": [
    "mask = save_segments(url)\n",
    "total = mask.shape[0]*mask.shape[1]\n",
    "clases = np.unique(mask)[1:]"
   ]
  },
  {
   "cell_type": "code",
   "execution_count": 8,
   "metadata": {},
   "outputs": [],
   "source": [
    "photo_id = url.split('/')[-1]\n",
    "urls = []\n",
    "areas = []\n",
    "classes = []\n",
    "for c in clases: \n",
    "    area = mask[mask==c].shape[0]\n",
    "    if area> 10*10:\n",
    "        areas.append(area)\n",
    "        urls.append(f'https://dima.grankin.eu/fragment_reference_images/{photo_id}_{c}.jpg')\n",
    "        classes.append(c)"
   ]
  },
  {
   "cell_type": "code",
   "execution_count": 9,
   "metadata": {
    "collapsed": true,
    "jupyter": {
     "outputs_hidden": true
    },
    "tags": []
   },
   "outputs": [
    {
     "name": "stderr",
     "output_type": "stream",
     "text": [
      "/tmp/ipykernel_1038725/113361347.py:3: FutureWarning: The frame.append method is deprecated and will be removed from pandas in a future version. Use pandas.concat instead.\n",
      "  clip_df = clip_df.append(search_clip(u,head = 1)[1])\n",
      "/tmp/ipykernel_1038725/113361347.py:3: FutureWarning: The frame.append method is deprecated and will be removed from pandas in a future version. Use pandas.concat instead.\n",
      "  clip_df = clip_df.append(search_clip(u,head = 1)[1])\n",
      "/tmp/ipykernel_1038725/113361347.py:3: FutureWarning: The frame.append method is deprecated and will be removed from pandas in a future version. Use pandas.concat instead.\n",
      "  clip_df = clip_df.append(search_clip(u,head = 1)[1])\n",
      "/tmp/ipykernel_1038725/113361347.py:3: FutureWarning: The frame.append method is deprecated and will be removed from pandas in a future version. Use pandas.concat instead.\n",
      "  clip_df = clip_df.append(search_clip(u,head = 1)[1])\n",
      "/tmp/ipykernel_1038725/113361347.py:3: FutureWarning: The frame.append method is deprecated and will be removed from pandas in a future version. Use pandas.concat instead.\n",
      "  clip_df = clip_df.append(search_clip(u,head = 1)[1])\n",
      "/tmp/ipykernel_1038725/113361347.py:3: FutureWarning: The frame.append method is deprecated and will be removed from pandas in a future version. Use pandas.concat instead.\n",
      "  clip_df = clip_df.append(search_clip(u,head = 1)[1])\n",
      "/tmp/ipykernel_1038725/113361347.py:3: FutureWarning: The frame.append method is deprecated and will be removed from pandas in a future version. Use pandas.concat instead.\n",
      "  clip_df = clip_df.append(search_clip(u,head = 1)[1])\n",
      "/tmp/ipykernel_1038725/113361347.py:3: FutureWarning: The frame.append method is deprecated and will be removed from pandas in a future version. Use pandas.concat instead.\n",
      "  clip_df = clip_df.append(search_clip(u,head = 1)[1])\n"
     ]
    }
   ],
   "source": [
    "clip_df = pd.DataFrame()\n",
    "for u in urls:\n",
    "    clip_df = clip_df.append(search_clip(u,head = 1)[1])\n",
    "clip_df=clip_df.reset_index(drop=True)\n",
    "clip_df['area'] = areas\n",
    "clip_df['class'] = classes\n",
    "clip_df = clip_df.sort_values('area',ascending = False)"
   ]
  },
  {
   "cell_type": "code",
   "execution_count": 10,
   "metadata": {},
   "outputs": [],
   "source": [
    "calorie_dict = clip_df.set_index('class')['energy'].to_dict()"
   ]
  },
  {
   "cell_type": "code",
   "execution_count": 11,
   "metadata": {},
   "outputs": [],
   "source": [
    "from copy import copy"
   ]
  },
  {
   "cell_type": "code",
   "execution_count": 12,
   "metadata": {},
   "outputs": [],
   "source": [
    "calorie_mask = np.zeros(mask.shape)"
   ]
  },
  {
   "cell_type": "code",
   "execution_count": 13,
   "metadata": {},
   "outputs": [],
   "source": [
    "for c in classes: calorie_mask[mask==c]=calorie_dict[c]"
   ]
  },
  {
   "cell_type": "code",
   "execution_count": 14,
   "metadata": {},
   "outputs": [
    {
     "data": {
      "text/plain": [
       "array([  0.,   6.,  26.,  27.,  41.,  74., 106., 152.])"
      ]
     },
     "execution_count": 14,
     "metadata": {},
     "output_type": "execute_result"
    }
   ],
   "source": [
    "np.unique(calorie_mask)"
   ]
  },
  {
   "cell_type": "code",
   "execution_count": 15,
   "metadata": {},
   "outputs": [],
   "source": [
    "image = get_image_from_url(url)"
   ]
  },
  {
   "cell_type": "code",
   "execution_count": 17,
   "metadata": {},
   "outputs": [
    {
     "data": {
      "text/plain": [
       "<matplotlib.image.AxesImage at 0x7f4f10168550>"
      ]
     },
     "execution_count": 17,
     "metadata": {},
     "output_type": "execute_result"
    },
    {
     "data": {
      "image/png": "[encoded data removed]",
      "text/plain": [
       "<Figure size 432x288 with 1 Axes>"
      ]
     },
     "metadata": {
      "needs_background": "light"
     },
     "output_type": "display_data"
    }
   ],
   "source": [
    "fig, ax = plt.subplots()\n",
    "ax.imshow(image)\n",
    "ax.imshow(calorie_mask, interpolation='none', alpha=0.9)"
   ]
  },
  {
   "cell_type": "code",
   "execution_count": 113,
   "metadata": {},
   "outputs": [
    {
     "data": {
      "text/html": [
       "<div>\n",
       "<style scoped>\n",
       "    .dataframe tbody tr th:only-of-type {\n",
       "        vertical-align: middle;\n",
       "    }\n",
       "\n",
       "    .dataframe tbody tr th {\n",
       "        vertical-align: top;\n",
       "    }\n",
       "\n",
       "    .dataframe thead th {\n",
       "        text-align: right;\n",
       "    }\n",
       "</style>\n",
       "<table border=\"1\" class=\"dataframe\">\n",
       "  <thead>\n",
       "    <tr style=\"text-align: right;\">\n",
       "      <th></th>\n",
       "      <th>id</th>\n",
       "      <th>description</th>\n",
       "      <th>category</th>\n",
       "      <th>energy</th>\n",
       "      <th>protein</th>\n",
       "      <th>carb</th>\n",
       "      <th>fat</th>\n",
       "      <th>text</th>\n",
       "      <th>clip</th>\n",
       "      <th>score</th>\n",
       "      <th>area</th>\n",
       "      <th>class</th>\n",
       "    </tr>\n",
       "  </thead>\n",
       "  <tbody>\n",
       "    <tr>\n",
       "      <th>7</th>\n",
       "      <td>1103416</td>\n",
       "      <td>Artichoke, frozen, cooked, fat added</td>\n",
       "      <td>Other vegetables and combinations</td>\n",
       "      <td>74.0</td>\n",
       "      <td>2.81</td>\n",
       "      <td>11.57</td>\n",
       "      <td>2.87</td>\n",
       "      <td>the food is other vegetables and combinations ...</td>\n",
       "      <td>[0.038708072, -0.0052777464, -0.009069385, 0.0...</td>\n",
       "      <td>0.244991</td>\n",
       "      <td>81381</td>\n",
       "      <td>103</td>\n",
       "    </tr>\n",
       "    <tr>\n",
       "      <th>1</th>\n",
       "      <td>1103373</td>\n",
       "      <td>Pepper, banana, raw</td>\n",
       "      <td>Other vegetables and combinations</td>\n",
       "      <td>27.0</td>\n",
       "      <td>1.66</td>\n",
       "      <td>5.35</td>\n",
       "      <td>0.45</td>\n",
       "      <td>the food is other vegetables and combinations ...</td>\n",
       "      <td>[0.05288567, 0.0057883444, -0.026471268, -0.00...</td>\n",
       "      <td>0.246689</td>\n",
       "      <td>25006</td>\n",
       "      <td>76</td>\n",
       "    </tr>\n",
       "    <tr>\n",
       "      <th>6</th>\n",
       "      <td>1103372</td>\n",
       "      <td>Pepper, sweet, red, raw</td>\n",
       "      <td>Other red and orange vegetables</td>\n",
       "      <td>26.0</td>\n",
       "      <td>0.99</td>\n",
       "      <td>6.03</td>\n",
       "      <td>0.30</td>\n",
       "      <td>the food is other red and orange vegetables . ...</td>\n",
       "      <td>[0.037836775, -0.011300974, -0.030213699, -0.0...</td>\n",
       "      <td>0.219144</td>\n",
       "      <td>20464</td>\n",
       "      <td>94</td>\n",
       "    </tr>\n",
       "    <tr>\n",
       "      <th>5</th>\n",
       "      <td>1099628</td>\n",
       "      <td>Moo Shu pork, without Chinese pancake</td>\n",
       "      <td>Stir-fry and soy-based sauce mixtures</td>\n",
       "      <td>152.0</td>\n",
       "      <td>10.43</td>\n",
       "      <td>4.04</td>\n",
       "      <td>10.61</td>\n",
       "      <td>the food is stir-fry and soy-based sauce mixtu...</td>\n",
       "      <td>[0.046197023, 0.0019993146, -0.010043286, 0.01...</td>\n",
       "      <td>0.239528</td>\n",
       "      <td>9863</td>\n",
       "      <td>92</td>\n",
       "    </tr>\n",
       "    <tr>\n",
       "      <th>2</th>\n",
       "      <td>1098156</td>\n",
       "      <td>Meat, baby food, NS as to type, NS as to strai...</td>\n",
       "      <td>Baby food: meat and dinners</td>\n",
       "      <td>106.0</td>\n",
       "      <td>12.86</td>\n",
       "      <td>1.26</td>\n",
       "      <td>5.21</td>\n",
       "      <td>the food is baby food meat and dinners . it ha...</td>\n",
       "      <td>[0.0035682924, -0.0013088994, 0.020203583, 0.0...</td>\n",
       "      <td>0.236651</td>\n",
       "      <td>3023</td>\n",
       "      <td>84</td>\n",
       "    </tr>\n",
       "    <tr>\n",
       "      <th>3</th>\n",
       "      <td>1103714</td>\n",
       "      <td>Mushroom soup, cream of, canned, reduced sodiu...</td>\n",
       "      <td>Soups</td>\n",
       "      <td>26.0</td>\n",
       "      <td>0.61</td>\n",
       "      <td>4.11</td>\n",
       "      <td>0.86</td>\n",
       "      <td>the food is soups . it has a little bit of   n...</td>\n",
       "      <td>[0.036990557, 0.020746004, 0.019117268, 0.0312...</td>\n",
       "      <td>0.212886</td>\n",
       "      <td>2028</td>\n",
       "      <td>86</td>\n",
       "    </tr>\n",
       "    <tr>\n",
       "      <th>4</th>\n",
       "      <td>1103452</td>\n",
       "      <td>Green beans, canned, reduced sodium, cooked wi...</td>\n",
       "      <td>String beans</td>\n",
       "      <td>41.0</td>\n",
       "      <td>1.10</td>\n",
       "      <td>4.20</td>\n",
       "      <td>2.62</td>\n",
       "      <td>the food is string beans . it has a little bit...</td>\n",
       "      <td>[0.047265675, 0.020352881, -0.0034479606, 0.02...</td>\n",
       "      <td>0.263416</td>\n",
       "      <td>1918</td>\n",
       "      <td>88</td>\n",
       "    </tr>\n",
       "    <tr>\n",
       "      <th>0</th>\n",
       "      <td>1100118</td>\n",
       "      <td>Beef broth, less or reduced sodium, canned or ...</td>\n",
       "      <td>Soups</td>\n",
       "      <td>6.0</td>\n",
       "      <td>1.14</td>\n",
       "      <td>0.20</td>\n",
       "      <td>0.07</td>\n",
       "      <td>the food is soups . it has a little bit of   c...</td>\n",
       "      <td>[0.039315417, 0.022662338, 0.01857884, 0.01075...</td>\n",
       "      <td>0.184176</td>\n",
       "      <td>203</td>\n",
       "      <td>66</td>\n",
       "    </tr>\n",
       "  </tbody>\n",
       "</table>\n",
       "</div>"
      ],
      "text/plain": [
       "        id                                        description  \\\n",
       "7  1103416               Artichoke, frozen, cooked, fat added   \n",
       "1  1103373                                Pepper, banana, raw   \n",
       "6  1103372                            Pepper, sweet, red, raw   \n",
       "5  1099628              Moo Shu pork, without Chinese pancake   \n",
       "2  1098156  Meat, baby food, NS as to type, NS as to strai...   \n",
       "3  1103714  Mushroom soup, cream of, canned, reduced sodiu...   \n",
       "4  1103452  Green beans, canned, reduced sodium, cooked wi...   \n",
       "0  1100118  Beef broth, less or reduced sodium, canned or ...   \n",
       "\n",
       "                                category  energy  protein   carb    fat  \\\n",
       "7      Other vegetables and combinations    74.0     2.81  11.57   2.87   \n",
       "1      Other vegetables and combinations    27.0     1.66   5.35   0.45   \n",
       "6        Other red and orange vegetables    26.0     0.99   6.03   0.30   \n",
       "5  Stir-fry and soy-based sauce mixtures   152.0    10.43   4.04  10.61   \n",
       "2            Baby food: meat and dinners   106.0    12.86   1.26   5.21   \n",
       "3                                  Soups    26.0     0.61   4.11   0.86   \n",
       "4                           String beans    41.0     1.10   4.20   2.62   \n",
       "0                                  Soups     6.0     1.14   0.20   0.07   \n",
       "\n",
       "                                                text  \\\n",
       "7  the food is other vegetables and combinations ...   \n",
       "1  the food is other vegetables and combinations ...   \n",
       "6  the food is other red and orange vegetables . ...   \n",
       "5  the food is stir-fry and soy-based sauce mixtu...   \n",
       "2  the food is baby food meat and dinners . it ha...   \n",
       "3  the food is soups . it has a little bit of   n...   \n",
       "4  the food is string beans . it has a little bit...   \n",
       "0  the food is soups . it has a little bit of   c...   \n",
       "\n",
       "                                                clip     score   area  class  \n",
       "7  [0.038708072, -0.0052777464, -0.009069385, 0.0...  0.244991  81381    103  \n",
       "1  [0.05288567, 0.0057883444, -0.026471268, -0.00...  0.246689  25006     76  \n",
       "6  [0.037836775, -0.011300974, -0.030213699, -0.0...  0.219144  20464     94  \n",
       "5  [0.046197023, 0.0019993146, -0.010043286, 0.01...  0.239528   9863     92  \n",
       "2  [0.0035682924, -0.0013088994, 0.020203583, 0.0...  0.236651   3023     84  \n",
       "3  [0.036990557, 0.020746004, 0.019117268, 0.0312...  0.212886   2028     86  \n",
       "4  [0.047265675, 0.020352881, -0.0034479606, 0.02...  0.263416   1918     88  \n",
       "0  [0.039315417, 0.022662338, 0.01857884, 0.01075...  0.184176    203     66  "
      ]
     },
     "execution_count": 113,
     "metadata": {},
     "output_type": "execute_result"
    }
   ],
   "source": [
    "clip_df"
   ]
  },
  {
   "cell_type": "code",
   "execution_count": 123,
   "metadata": {},
   "outputs": [
    {
     "ename": "IndexError",
     "evalue": "list index out of range",
     "output_type": "error",
     "traceback": [
      "\u001b[0;31m---------------------------------------------------------------------------\u001b[0m",
      "\u001b[0;31mIndexError\u001b[0m                                Traceback (most recent call last)",
      "\u001b[1;32m/home/dima/FoodSeg103-Benchmark-v1/nbs/00_search.ipynb Cell 18\u001b[0m in \u001b[0;36m<cell line: 1>\u001b[0;34m()\u001b[0m\n\u001b[0;32m----> <a href='vscode-notebook-cell://ssh-remote%2Bmig/home/dima/FoodSeg103-Benchmark-v1/nbs/00_search.ipynb#ch0000039vscode-remote?line=0'>1</a>\u001b[0m get_image_from_url(urls[\u001b[39m8\u001b[39;49m])\n",
      "\u001b[0;31mIndexError\u001b[0m: list index out of range"
     ]
    }
   ],
   "source": [
    "get_image_from_url(urls[8])"
   ]
  },
  {
   "cell_type": "code",
   "execution_count": 114,
   "metadata": {},
   "outputs": [
    {
     "data": {
      "text/plain": [
       "['https://dima.grankin.eu/fragment_reference_images/stock-photo-selective-focus-of-seblak-kuah-famous-street-food-originating-from-bandung-west-java-cooked-1793705947.jpg_66.jpg',\n",
       " 'https://dima.grankin.eu/fragment_reference_images/stock-photo-selective-focus-of-seblak-kuah-famous-street-food-originating-from-bandung-west-java-cooked-1793705947.jpg_76.jpg',\n",
       " 'https://dima.grankin.eu/fragment_reference_images/stock-photo-selective-focus-of-seblak-kuah-famous-street-food-originating-from-bandung-west-java-cooked-1793705947.jpg_84.jpg',\n",
       " 'https://dima.grankin.eu/fragment_reference_images/stock-photo-selective-focus-of-seblak-kuah-famous-street-food-originating-from-bandung-west-java-cooked-1793705947.jpg_86.jpg',\n",
       " 'https://dima.grankin.eu/fragment_reference_images/stock-photo-selective-focus-of-seblak-kuah-famous-street-food-originating-from-bandung-west-java-cooked-1793705947.jpg_88.jpg',\n",
       " 'https://dima.grankin.eu/fragment_reference_images/stock-photo-selective-focus-of-seblak-kuah-famous-street-food-originating-from-bandung-west-java-cooked-1793705947.jpg_92.jpg',\n",
       " 'https://dima.grankin.eu/fragment_reference_images/stock-photo-selective-focus-of-seblak-kuah-famous-street-food-originating-from-bandung-west-java-cooked-1793705947.jpg_94.jpg',\n",
       " 'https://dima.grankin.eu/fragment_reference_images/stock-photo-selective-focus-of-seblak-kuah-famous-street-food-originating-from-bandung-west-java-cooked-1793705947.jpg_103.jpg']"
      ]
     },
     "execution_count": 114,
     "metadata": {},
     "output_type": "execute_result"
    }
   ],
   "source": [
    "urls"
   ]
  },
  {
   "cell_type": "code",
   "execution_count": null,
   "metadata": {},
   "outputs": [],
   "source": []
  }
 ],
 "metadata": {
  "kernelspec": {
   "display_name": "f3",
   "language": "python",
   "name": "f3"
  },
  "language_info": {
   "codemirror_mode": {
    "name": "ipython",
    "version": 3
   },
   "file_extension": ".py",
   "mimetype": "text/x-python",
   "name": "python",
   "nbconvert_exporter": "python",
   "pygments_lexer": "ipython3",
   "version": "3.9.13"
  },
  "vscode": {
   "interpreter": {
    "hash": "0057cd81479e5ba969b4301aa6e1adfac0c0dacd42cbd9106d10812bb1a90dea"
   }
  }
 },
 "nbformat": 4,
 "nbformat_minor": 4
}
