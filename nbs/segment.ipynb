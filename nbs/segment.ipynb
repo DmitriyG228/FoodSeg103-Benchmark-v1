{
 "cells": [
  {
   "cell_type": "code",
   "execution_count": 1,
   "metadata": {},
   "outputs": [],
   "source": [
    "#default_exp segment"
   ]
  },
  {
   "cell_type": "code",
   "execution_count": 2,
   "metadata": {},
   "outputs": [],
   "source": [
    "#export\n",
    "import sys\n",
    "sys.path.insert(0,'..')\n",
    "\n",
    "from mmseg.apis import init_segmentor, inference_segmentor, show_result_pyplot\n",
    "from mmseg.core.evaluation import get_palette\n",
    "import numpy as np\n",
    "from mytools.tools import *\n",
    "from urllib.request import urlopen\n",
    "import cv2\n",
    "from PIL import Image\n",
    "from food.paths import *\n",
    "\n",
    "def url_to_image(url):\n",
    "\t# download the image, convert it to a NumPy array, and then read\n",
    "\t# it into OpenCV format\n",
    "\tresp = urlopen(url)\n",
    "\timage = np.asarray(bytearray(resp.read()), dtype=\"uint8\")\n",
    "\timage = cv2.imdecode(image, cv2.IMREAD_COLOR)\n",
    "\t# return the image\n",
    "\treturn image"
   ]
  },
  {
   "cell_type": "code",
   "execution_count": 4,
   "metadata": {},
   "outputs": [
    {
     "name": "stderr",
     "output_type": "stream",
     "text": [
      "/home/dima/FoodSeg103-Benchmark-v1/nbs/../mmseg/models/builder.py:59: UserWarning: train_cfg and test_cfg is deprecated, please specify them in model\n",
      "  warnings.warn(\n"
     ]
    },
    {
     "name": "stdout",
     "output_type": "stream",
     "text": [
      "load pre-trained weight from imagenet21k\n"
     ]
    }
   ],
   "source": [
    "#export\n",
    "config_file = '../checkpoints/SETR_Naive_ReLeM/SETR_Naive_768x768_80k_base.py'\n",
    "checkpoint_file = '../checkpoints/SETR_Naive_ReLeM/iter_80000.pth'\n",
    "model = init_segmentor(config_file, checkpoint_file, device='cuda:0')"
   ]
  },
  {
   "cell_type": "code",
   "execution_count": 30,
   "metadata": {},
   "outputs": [],
   "source": [
    "#export\n",
    "def crop_zeros(img,class_mask):\n",
    "    class_img = np.array(img) * np.stack([class_mask.T]*3).T\n",
    "    true_points = np.argwhere(class_mask)\n",
    "    top_left = true_points.min(axis=0)\n",
    "    bottom_right = true_points.max(axis=0)\n",
    "    return (class_img[top_left[0]:bottom_right[0]+1,\n",
    "                      top_left[1]:bottom_right[1]+1]).astype(np.uint8)"
   ]
  },
  {
   "cell_type": "code",
   "execution_count": 32,
   "metadata": {},
   "outputs": [],
   "source": [
    "#export\n",
    "def save_segments(url):\n",
    "    photo_id = url.split('/')[-1]\n",
    "    img = url_to_image(url)\n",
    "    mask = inference_segmentor(model, img)[0]\n",
    "    img = cv2.cvtColor(img,cv2.COLOR_BGR2RGB)\n",
    "    classes = np.unique(mask)[1:]\n",
    "    for c in classes:\n",
    "        class_mask = np.where(mask==c,1,0)\n",
    "        Image.fromarray(crop_zeros(img,class_mask)).save(fragment_reference_images_path/f'{photo_id}_{c}.jpg')\n",
    "    return mask\n",
    "        "
   ]
  },
  {
   "cell_type": "code",
   "execution_count": 34,
   "metadata": {},
   "outputs": [],
   "source": [
    "url = 'https://image.shutterstock.com/z/stock-photo-green-salad-with-baked-chicken-breast-at-white-kitchen-table-healthy-food-clean-eating-concept-1932518612.jpg'"
   ]
  },
  {
   "cell_type": "code",
   "execution_count": 37,
   "metadata": {},
   "outputs": [
    {
     "data": {
      "text/plain": [
       "array([[0, 0, 0, ..., 0, 0, 0],\n",
       "       [0, 0, 0, ..., 0, 0, 0],\n",
       "       [0, 0, 0, ..., 0, 0, 0],\n",
       "       ...,\n",
       "       [0, 0, 0, ..., 0, 0, 0],\n",
       "       [0, 0, 0, ..., 0, 0, 0],\n",
       "       [0, 0, 0, ..., 0, 0, 0]])"
      ]
     },
     "execution_count": 37,
     "metadata": {},
     "output_type": "execute_result"
    }
   ],
   "source": [
    "save_segments(url)"
   ]
  },
  {
   "cell_type": "code",
   "execution_count": 36,
   "metadata": {},
   "outputs": [
    {
     "data": {
      "text/plain": [
       "[None, None, None, None, None, None]"
      ]
     },
     "execution_count": 36,
     "metadata": {},
     "output_type": "execute_result"
    }
   ],
   "source": [
    "#[p.unlink() for p in fragment_reference_images_path.ls()]"
   ]
  },
  {
   "cell_type": "code",
   "execution_count": 42,
   "metadata": {},
   "outputs": [
    {
     "name": "stdout",
     "output_type": "stream",
     "text": [
      "Converted 00_paths.ipynb.\n",
      "Converted segment.ipynb.\n"
     ]
    }
   ],
   "source": [
    "!nbdev_build_lib"
   ]
  },
  {
   "cell_type": "code",
   "execution_count": null,
   "metadata": {},
   "outputs": [],
   "source": [
    "foods = pd.read_sql(\"\"\"select f.* , c.cluster \n",
    "                        from food.foods_prompted f\n",
    "                        join food.foods_clusters c on (c.id = f.id)\"\"\",engine)\n",
    "\n",
    "# foods = foods.drop(columns = ['clip'])\n",
    "foods = foods.set_index('id')\n",
    "foods = foods.dropna()"
   ]
  }
 ],
 "metadata": {
  "kernelspec": {
   "display_name": "Python 3.9.13 ('f3')",
   "language": "python",
   "name": "python3"
  },
  "language_info": {
   "codemirror_mode": {
    "name": "ipython",
    "version": 3
   },
   "file_extension": ".py",
   "mimetype": "text/x-python",
   "name": "python",
   "nbconvert_exporter": "python",
   "pygments_lexer": "ipython3",
   "version": "3.9.13"
  },
  "orig_nbformat": 4,
  "vscode": {
   "interpreter": {
    "hash": "0057cd81479e5ba969b4301aa6e1adfac0c0dacd42cbd9106d10812bb1a90dea"
   }
  }
 },
 "nbformat": 4,
 "nbformat_minor": 2
}
