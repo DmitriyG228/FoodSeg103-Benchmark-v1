{
 "cells": [
  {
   "cell_type": "code",
   "execution_count": 1,
   "metadata": {},
   "outputs": [],
   "source": [
    "#default_exp paths"
   ]
  },
  {
   "cell_type": "code",
   "execution_count": 2,
   "metadata": {},
   "outputs": [],
   "source": [
    "\n",
    "# export\n",
    "from pathlib import Path\n",
    "import os\n",
    "#export\n",
    "Path.ls = lambda x: list(x.iterdir())\n",
    "#export\n",
    "mapbox_access_token = 'pk.eyJ1IjoiZGltYWRnbyIsImEiOiJjanYydDF2dTkwdnFzNDNwOXFuNzY4OGxnIn0.wnBvykpkR0RtWOp7bj74Yw'\n",
    "\n",
    "# export\n",
    "main_path                       = Path(os.getenv(\"HOME\"))\n",
    "data_path                       = Path(main_path/'data/food')\n",
    "reference_images_path           = Path(data_path/'reference_images')\n",
    "fragment_reference_images_path  = Path(data_path/'fragment_reference_images')\n",
    "\n",
    "\n",
    "glovo_dataset_path  = Path('/home/dima/datasets/glovo_dataset')"
   ]
  },
  {
   "cell_type": "code",
   "execution_count": 3,
   "metadata": {},
   "outputs": [
    {
     "name": "stdout",
     "output_type": "stream",
     "text": [
      "Converted 00_paths.ipynb.\n",
      "Converted segment.ipynb.\n"
     ]
    }
   ],
   "source": [
    "!nbdev_build_lib"
   ]
  },
  {
   "cell_type": "code",
   "execution_count": null,
   "metadata": {},
   "outputs": [],
   "source": []
  }
 ],
 "metadata": {
  "kernelspec": {
   "display_name": "Python 3.9.13 ('f3')",
   "language": "python",
   "name": "python3"
  },
  "language_info": {
   "codemirror_mode": {
    "name": "ipython",
    "version": 3
   },
   "file_extension": ".py",
   "mimetype": "text/x-python",
   "name": "python",
   "nbconvert_exporter": "python",
   "pygments_lexer": "ipython3",
   "version": "3.9.13"
  },
  "orig_nbformat": 4,
  "vscode": {
   "interpreter": {
    "hash": "0057cd81479e5ba969b4301aa6e1adfac0c0dacd42cbd9106d10812bb1a90dea"
   }
  }
 },
 "nbformat": 4,
 "nbformat_minor": 2
}
