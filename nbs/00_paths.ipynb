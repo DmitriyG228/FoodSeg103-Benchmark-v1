{
 "cells": [
  {
   "cell_type": "code",
   "execution_count": 3,
   "metadata": {},
   "outputs": [],
   "source": [
    "#| default_exp paths"
   ]
  },
  {
   "cell_type": "code",
   "execution_count": 24,
   "metadata": {},
   "outputs": [],
   "source": [
    "\n",
    "#| export\n",
    "from pathlib import Path\n",
    "import os\n",
    "from mytools.paths import *\n",
    "from mytools.tools import *\n",
    "mapbox_access_token = 'pk.eyJ1IjoiZGltYWRnbyIsImEiOiJjanYydDF2dTkwdnFzNDNwOXFuNzY4OGxnIn0.wnBvykpkR0RtWOp7bj74Yw'\n",
    "\n",
    "# export\n",
    "main_path                       = Path(os.getenv(\"HOME\"))\n",
    "local_data_path                 = Path(data_path/'segmentator')\n",
    "checkpoints_path                = Path(local_data_path/'checkpoints')\n",
    "branch = 'dev'"
   ]
  },
  {
   "cell_type": "code",
   "execution_count": 25,
   "metadata": {},
   "outputs": [
    {
     "data": {
      "text/plain": [
       "[PosixPath('/home/dima/new/data/segmentator/checkpoints/SETR_MLA_ReLeM'),\n",
       " PosixPath('/home/dima/new/data/segmentator/checkpoints/SETR_MLA'),\n",
       " PosixPath('/home/dima/new/data/segmentator/checkpoints/SETR_Naive_ReLeM'),\n",
       " PosixPath('/home/dima/new/data/segmentator/checkpoints/FPN_ReLeM'),\n",
       " PosixPath('/home/dima/new/data/segmentator/checkpoints/swin_base'),\n",
       " PosixPath('/home/dima/new/data/segmentator/checkpoints/SETR_Naive'),\n",
       " PosixPath('/home/dima/new/data/segmentator/checkpoints/swin_small'),\n",
       " PosixPath('/home/dima/new/data/segmentator/checkpoints/CCNet_ReLeM'),\n",
       " PosixPath('/home/dima/new/data/segmentator/checkpoints/FPN'),\n",
       " PosixPath('/home/dima/new/data/segmentator/checkpoints/CCNet'),\n",
       " PosixPath('/home/dima/new/data/segmentator/checkpoints/SETR_MLA_L384')]"
      ]
     },
     "execution_count": 25,
     "metadata": {},
     "output_type": "execute_result"
    }
   ],
   "source": [
    "checkpoints_path.ls()"
   ]
  },
  {
   "cell_type": "code",
   "execution_count": 27,
   "metadata": {},
   "outputs": [],
   "source": [
    "!nbdev_export"
   ]
  },
  {
   "cell_type": "code",
   "execution_count": null,
   "metadata": {},
   "outputs": [],
   "source": []
  }
 ],
 "metadata": {
  "kernelspec": {
   "display_name": "f1",
   "language": "python",
   "name": "f1"
  },
  "language_info": {
   "codemirror_mode": {
    "name": "ipython",
    "version": 3
   },
   "file_extension": ".py",
   "mimetype": "text/x-python",
   "name": "python",
   "nbconvert_exporter": "python",
   "pygments_lexer": "ipython3",
   "version": "3.9.12"
  },
  "vscode": {
   "interpreter": {
    "hash": "0057cd81479e5ba969b4301aa6e1adfac0c0dacd42cbd9106d10812bb1a90dea"
   }
  }
 },
 "nbformat": 4,
 "nbformat_minor": 4
}
